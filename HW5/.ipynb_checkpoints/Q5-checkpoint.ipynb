{
 "cells": [
  {
   "cell_type": "markdown",
   "metadata": {},
   "source": [
    "# Question 5"
   ]
  },
  {
   "cell_type": "code",
   "execution_count": 186,
   "metadata": {},
   "outputs": [],
   "source": [
    "import pandas as pd\n",
    "import numpy as np\n",
    "from sklearn.linear_model import LinearRegression\n",
    "import matplotlib.pyplot as plt"
   ]
  },
  {
   "cell_type": "markdown",
   "metadata": {},
   "source": [
    "### Loading Data"
   ]
  },
  {
   "cell_type": "code",
   "execution_count": 187,
   "metadata": {},
   "outputs": [],
   "source": [
    "df_2017 = pd.read_csv(\"nba2017.csv\")\n",
    "df_2016 = pd.read_csv(\"nba2016.csv\")\n",
    "df_2015 = pd.read_csv(\"nba2015.csv\")\n",
    "df_2014 = pd.read_csv(\"nba2014.csv\")\n",
    "df_2013 = pd.read_csv(\"nba2013.csv\")\n",
    "df_2012 = pd.read_csv(\"nba2012.csv\")\n",
    "df_2011 = pd.read_csv(\"nba2011.csv\")\n",
    "df_2010 = pd.read_csv(\"nba2010.csv\")"
   ]
  },
  {
   "cell_type": "code",
   "execution_count": 188,
   "metadata": {},
   "outputs": [],
   "source": [
    "df2017 = df_2017[['FG%', 'ORB', 'DRB', 'TRB', 'PTS']]\n",
    "df2016 = df_2016[['FG%', 'ORB', 'DRB', 'TRB', 'PTS']]\n",
    "df2015 = df_2015[['FG%', 'ORB', 'DRB', 'TRB', 'PTS']]\n",
    "df2014 = df_2014[['FG%', 'ORB', 'DRB', 'TRB', 'PTS']]\n",
    "df2013 = df_2013[['FG%', 'ORB', 'DRB', 'TRB', 'PTS']]\n",
    "df2012 = df_2012[['FG%', 'ORB', 'DRB', 'TRB', 'PTS']]\n",
    "df2011 = df_2011[['FG%', 'ORB', 'DRB', 'TRB', 'PTS']]\n",
    "df2010 = df_2010[['FG%', 'ORB', 'DRB', 'TRB', 'PTS']]"
   ]
  },
  {
   "cell_type": "markdown",
   "metadata": {},
   "source": [
    "### MultipleLinearRegression function which return the weight vector $\\hat{\\beta}$"
   ]
  },
  {
   "cell_type": "code",
   "execution_count": 189,
   "metadata": {},
   "outputs": [],
   "source": [
    "def MultipleLinearRegression(X,Y):\n",
    "#     print(\"X.shape, Y.shape\",(X.shape, Y.shape))\n",
    "    temp1 = X.T.dot(X)\n",
    "    temp2 = X.T.dot(Y)\n",
    "    temp1 = np.linalg.inv(temp1)\n",
    "#     print(\"temp1.shape, temp2.shape\",(temp1.shape, temp2.shape))\n",
    "    beta_hat = temp1.dot(temp2)\n",
    "#     print(\"beta_hat.shape\",beta_hat.shape)\n",
    "    return(beta_hat)"
   ]
  },
  {
   "cell_type": "markdown",
   "metadata": {},
   "source": [
    "### Part (a) Using 2016 data (change year to 2016 in url) as training, find the multiple linear regression fit for PTS as a function of only FG% and TRB (no $\\beta_0$). Treat each row as a new observation. What can you infer about the contribution of TRB to total points?"
   ]
  },
  {
   "cell_type": "code",
   "execution_count": 190,
   "metadata": {},
   "outputs": [
    {
     "name": "stdout",
     "output_type": "stream",
     "text": [
      "beta_hat: [[129.63595432]\n",
      " [  1.00665119]]\n"
     ]
    }
   ],
   "source": [
    "x_train = np.array(df2016[['FG%', 'TRB']])\n",
    "y_train = np.array(df2016[['PTS']])\n",
    "beta_hat = MultipleLinearRegression(x_train, y_train)\n",
    "print('beta_hat:',beta_hat)\n",
    "\n",
    "# linreg = LinearRegression()\n",
    "# model = linreg.fit(x_train, y_train)\n",
    "# pred = x_train.dot(beta_hat)"
   ]
  },
  {
   "cell_type": "markdown",
   "metadata": {},
   "source": [
    "### INFERENCE: Weight of TRB feature is less compared to that of PTS. So, TRB Contributes less (1.0066) to PTS as compared to FG% (129.63)"
   ]
  },
  {
   "cell_type": "markdown",
   "metadata": {},
   "source": [
    "### Part (b) Repeat part (a) but now also include ORB and DRB as predictors. What can you infer about the contribution of TRB to total points in this case? Explain, in words, why this happens. This is a result of Multicollinearity."
   ]
  },
  {
   "cell_type": "code",
   "execution_count": 216,
   "metadata": {},
   "outputs": [
    {
     "name": "stdout",
     "output_type": "stream",
     "text": [
      "beta_hat: [[120.34948156]\n",
      " [ -0.2560834 ]\n",
      " [  0.98249996]\n",
      " [  1.47555233]]\n"
     ]
    }
   ],
   "source": [
    "x_train = np.array(df2016[['FG%', 'TRB', 'ORB', 'DRB']])\n",
    "y_train = np.array(df2016[['PTS']])\n",
    "# linreg = LinearRegression()\n",
    "# model = linreg.fit(x_train, y_train)\n",
    "beta_hat = MultipleLinearRegression(x_train, y_train)\n",
    "print('beta_hat:',beta_hat)"
   ]
  },
  {
   "cell_type": "markdown",
   "metadata": {},
   "source": [
    "### Inference: The weight of TRB becomes negative. That is, the contribution of TRB becomes negative (-0.256). This is because of multicollinearity. Multicollinearity occurs in this case because there is redundancy in the features: ORB + DRB = TRB. In such cases, we are not able to correctly interpret the contributions. "
   ]
  },
  {
   "cell_type": "markdown",
   "metadata": {},
   "source": [
    "### Part (c) Using 2017 as the test data (all 30 rows), and FG% and TRB as the two predictors, compute SSE and MAPE when using the following training data: (i) 2016, (ii) 2015-2016, (iii) 2010-2016."
   ]
  },
  {
   "cell_type": "code",
   "execution_count": 219,
   "metadata": {},
   "outputs": [],
   "source": [
    "# Defining the error functions\n",
    "\n",
    "def SSE(y, y_hat):\n",
    "#     x_bar = np.mean(x)\n",
    "#     sse = 0\n",
    "#     for i in x:\n",
    "#         sse += (i-x_bar)**2\n",
    "#     return(sse)\n",
    "    temp = 0\n",
    "    for i in range(len(y)):\n",
    "        temp += np.square(y[i]-y_hat[i])\n",
    "    return(temp)\n",
    "    \n",
    "    \n",
    "def MAPE(y, y_hat):\n",
    "    temp = 0\n",
    "    for i in range(len(y)):\n",
    "        temp += abs((y[i]-y_hat[i])/y[i])\n",
    "    temp = (100/len(y))*temp\n",
    "    return(temp)"
   ]
  },
  {
   "cell_type": "markdown",
   "metadata": {},
   "source": [
    "#### (i) Only 2016 training data"
   ]
  },
  {
   "cell_type": "code",
   "execution_count": 220,
   "metadata": {
    "scrolled": true
   },
   "outputs": [
    {
     "name": "stdout",
     "output_type": "stream",
     "text": [
      "beta_hat [[  1.27131398]\n",
      " [128.05327461]\n",
      " [  0.99397322]]\n"
     ]
    }
   ],
   "source": [
    "# Training the model\n",
    "x_train = np.array(df2016[['FG%', 'TRB']])\n",
    "temp = np.ones(x_train.shape[0]).reshape(-1,1)\n",
    "x_train = np.hstack((temp,x_train))\n",
    "y_train = np.array(df2016[['PTS']])\n",
    "beta_hat = MultipleLinearRegression(x_train, y_train)\n",
    "print('beta_hat',beta_hat)"
   ]
  },
  {
   "cell_type": "code",
   "execution_count": 221,
   "metadata": {
    "scrolled": true
   },
   "outputs": [],
   "source": [
    "# Testing on 2017 data\n",
    "x_test = df_2017[['FG%', 'TRB']]\n",
    "x_test = np.array(x_test)\n",
    "temp = np.ones(x_test.shape[0]).reshape(-1,1)\n",
    "x_test = np.hstack((temp,x_test))\n",
    "# result1 = clf.predict(x_test)\n",
    "result1 = x_test.dot(beta_hat)"
   ]
  },
  {
   "cell_type": "code",
   "execution_count": 222,
   "metadata": {},
   "outputs": [
    {
     "name": "stdout",
     "output_type": "stream",
     "text": [
      "SSE: [429.07552412]\n",
      "MAPE: [2.78530129]\n"
     ]
    }
   ],
   "source": [
    "# SSE\n",
    "sse = SSE(actual, result1)\n",
    "print(\"SSE:\",sse)\n",
    "# MAPE\n",
    "actual = np.array(df_2017[['PTS']])\n",
    "mape = MAPE(actual, result1)\n",
    "print(\"MAPE:\",mape)"
   ]
  },
  {
   "cell_type": "markdown",
   "metadata": {},
   "source": [
    "#### (ii) Using 2015-2016 training data"
   ]
  },
  {
   "cell_type": "code",
   "execution_count": 223,
   "metadata": {},
   "outputs": [],
   "source": [
    "# Training the model\n",
    "x1_train = np.array(df2015[['FG%', 'TRB']])\n",
    "x2_train = np.array(df2016[['FG%', 'TRB']])\n",
    "x1_train = np.vstack((x1_train, x2_train))\n",
    "\n",
    "temp = np.ones(x1_train.shape[0]).reshape(-1,1)\n",
    "x1_train = np.hstack((temp,x1_train))\n",
    "\n",
    "y1_train = np.array(df2015[['PTS']])\n",
    "y2_train = np.array(df2016[['PTS']])\n",
    "y1_train = np.vstack((y1_train, y2_train))\n",
    "# linreg = LinearRegression()\n",
    "# clf = linreg.fit(x1_train, y1_train)\n",
    "beta_hat = MultipleLinearRegression(x1_train, y1_train)"
   ]
  },
  {
   "cell_type": "code",
   "execution_count": 224,
   "metadata": {},
   "outputs": [],
   "source": [
    "# Testing on 2017 data\n",
    "x_test = df_2017[['FG%', 'TRB']]\n",
    "x_test = np.array(x_test)\n",
    "temp = np.ones(x_test.shape[0]).reshape(-1,1)\n",
    "x_test = np.hstack((temp,x_test))\n",
    "# result2 = clf.predict(x_test)\n",
    "result2 = x_test.dot(beta_hat)"
   ]
  },
  {
   "cell_type": "code",
   "execution_count": 225,
   "metadata": {},
   "outputs": [
    {
     "name": "stdout",
     "output_type": "stream",
     "text": [
      "SSE: [513.07239427]\n",
      "MAPE: [3.24174912]\n"
     ]
    }
   ],
   "source": [
    "# SSE\n",
    "sse = SSE(actual, result2)\n",
    "print(\"SSE:\",sse)\n",
    "# MAPE\n",
    "actual = np.array(df_2017[['PTS']])\n",
    "mape = MAPE(actual, result2)\n",
    "print(\"MAPE:\",mape)"
   ]
  },
  {
   "cell_type": "markdown",
   "metadata": {},
   "source": [
    "#### (iii) Using 2010-2016"
   ]
  },
  {
   "cell_type": "code",
   "execution_count": 226,
   "metadata": {},
   "outputs": [],
   "source": [
    "# Training the model\n",
    "x1_train = np.array(df2010[['FG%', 'TRB']])\n",
    "x2_train = np.array(df2011[['FG%', 'TRB']])\n",
    "x3_train = np.array(df2012[['FG%', 'TRB']])\n",
    "x4_train = np.array(df2013[['FG%', 'TRB']])\n",
    "x5_train = np.array(df2014[['FG%', 'TRB']])\n",
    "x6_train = np.array(df2015[['FG%', 'TRB']])\n",
    "x7_train = np.array(df2016[['FG%', 'TRB']])\n",
    "x1_train = np.vstack((x1_train, x2_train, x3_train, x4_train, x5_train, x6_train, x7_train))\n",
    "\n",
    "temp = np.ones(x1_train.shape[0]).reshape(-1,1)\n",
    "x1_train = np.hstack((temp,x1_train))\n",
    "\n",
    "\n",
    "y1_train = np.array(df2010[['PTS']])\n",
    "y2_train = np.array(df2011[['PTS']])\n",
    "y3_train = np.array(df2012[['PTS']])\n",
    "y4_train = np.array(df2013[['PTS']])\n",
    "y5_train = np.array(df2014[['PTS']])\n",
    "y6_train = np.array(df2015[['PTS']])\n",
    "y7_train = np.array(df2016[['PTS']])\n",
    "y1_train = np.vstack((y1_train, y2_train, y3_train, y4_train, y5_train, y6_train, y7_train))\n",
    "\n",
    "# linreg = LinearRegression()\n",
    "# clf = linreg.fit(x1_train, y1_train)\n",
    "beta_hat = MultipleLinearRegression(x1_train, y1_train)"
   ]
  },
  {
   "cell_type": "code",
   "execution_count": 227,
   "metadata": {},
   "outputs": [],
   "source": [
    "# Testing on 2017 data\n",
    "x_test = df_2017[['FG%', 'TRB']]\n",
    "x_test = np.array(x_test)\n",
    "temp = np.ones(x_test.shape[0]).reshape(-1,1)\n",
    "x_test = np.hstack((temp,x_test))\n",
    "# result3 = clf.predict(x_test)\n",
    "result3 = x_test.dot(beta_hat)"
   ]
  },
  {
   "cell_type": "code",
   "execution_count": 228,
   "metadata": {},
   "outputs": [
    {
     "name": "stdout",
     "output_type": "stream",
     "text": [
      "SSE: [745.10857745]\n",
      "MAPE: [4.11009126]\n"
     ]
    }
   ],
   "source": [
    "# SSE\n",
    "sse = SSE(actual, result3)\n",
    "print(\"SSE:\",sse)\n",
    "# MAPE\n",
    "actual = np.array(df_2017[['PTS']])\n",
    "mape = MAPE(actual, result3)\n",
    "print(\"MAPE:\",mape)"
   ]
  },
  {
   "cell_type": "markdown",
   "metadata": {},
   "source": [
    "### Part (d) For (c), compute the residuals for (i), (ii), and (iii), and plot them against the predicted PTS.You should have 3 plots. What can you say about the variance of residuals as a function of predicted PTS? Why is this important? "
   ]
  },
  {
   "cell_type": "code",
   "execution_count": 229,
   "metadata": {},
   "outputs": [],
   "source": [
    "def compute_residual(y_hat, y):\n",
    "    return(y-y_hat)"
   ]
  },
  {
   "cell_type": "code",
   "execution_count": 230,
   "metadata": {},
   "outputs": [],
   "source": [
    "residual1 = compute_residual(result1,actual)\n",
    "residual2 = compute_residual(result2,actual)\n",
    "residual3 = compute_residual(result3,actual)"
   ]
  },
  {
   "cell_type": "code",
   "execution_count": 217,
   "metadata": {},
   "outputs": [
    {
     "data": {
      "image/png": "[encoded data removed]",
      "text/plain": [
       "<matplotlib.figure.Figure at 0x7f49a2c694e0>"
      ]
     },
     "metadata": {},
     "output_type": "display_data"
    }
   ],
   "source": [
    "plt.figure(figsize=(10,10))\n",
    "plt.scatter(result1, residual1)\n",
    "plt.xlabel('PTS')\n",
    "plt.ylabel('Residuals')\n",
    "plt.show()"
   ]
  },
  {
   "cell_type": "code",
   "execution_count": 218,
   "metadata": {},
   "outputs": [
    {
     "data": {
      "image/png": "[encoded data removed]",
      "text/plain": [
       "<matplotlib.figure.Figure at 0x7f49a36c35c0>"
      ]
     },
     "metadata": {},
     "output_type": "display_data"
    }
   ],
   "source": [
    "plt.figure(figsize=(10,10))\n",
    "plt.scatter(result2,residual2)\n",
    "plt.xlabel('PTS')\n",
    "plt.ylabel('Residuals')\n",
    "plt.show()"
   ]
  },
  {
   "cell_type": "code",
   "execution_count": 207,
   "metadata": {},
   "outputs": [
    {
     "data": {
      "image/png": "[encoded data removed]",
      "text/plain": [
       "<matplotlib.figure.Figure at 0x7f49a2c6e588>"
      ]
     },
     "metadata": {},
     "output_type": "display_data"
    }
   ],
   "source": [
    "plt.figure(figsize=(10,10))\n",
    "plt.scatter(result3,residual3)\n",
    "plt.xlabel('PTS')\n",
    "plt.ylabel('Residuals')\n",
    "plt.show()"
   ]
  },
  {
   "cell_type": "markdown",
   "metadata": {},
   "source": [
    "#### TODO"
   ]
  },
  {
   "cell_type": "markdown",
   "metadata": {},
   "source": [
    "### Part (e)  For (c), compute the residuals for (i), (ii), and (iii), and plot their distribution. You should have 3 plots. Comment on whether they are Normal. Why does Normality matter?"
   ]
  },
  {
   "cell_type": "code",
   "execution_count": 209,
   "metadata": {},
   "outputs": [
    {
     "data": {
      "image/png": "[encoded data removed]",
      "text/plain": [
       "<matplotlib.figure.Figure at 0x7f49a2c69b70>"
      ]
     },
     "metadata": {},
     "output_type": "display_data"
    }
   ],
   "source": [
    "plt.figure(figsize=(10,10))\n",
    "plt.hist(residual1, density=True)\n",
    "plt.xlabel('Residuals')\n",
    "plt.ylabel('pdf')\n",
    "plt.show()"
   ]
  },
  {
   "cell_type": "code",
   "execution_count": 210,
   "metadata": {},
   "outputs": [
    {
     "data": {
      "image/png": "[encoded data removed]",
      "text/plain": [
       "<matplotlib.figure.Figure at 0x7f49a3281c18>"
      ]
     },
     "metadata": {},
     "output_type": "display_data"
    }
   ],
   "source": [
    "plt.figure(figsize=(10,10))\n",
    "plt.hist(residual2, density=True)\n",
    "plt.xlabel('Residuals')\n",
    "plt.ylabel('pdf')\n",
    "plt.show()"
   ]
  },
  {
   "cell_type": "raw",
   "metadata": {},
   "source": [
    "plt.figure(figsize=(10,10))\n",
    "plt.hist(residual3, density=True)\n",
    "plt.xlabel('Residuals')\n",
    "plt.ylabel('pdf')\n",
    "plt.show()"
   ]
  },
  {
   "cell_type": "markdown",
   "metadata": {},
   "source": [
    "#### Yes, the plots appear to be normal. Normality is important for residuals. This is because, for non normal residuals, the error is not consistent over the entire data set. This means that the predictive ability is not the same across the full range of the dependent variables. That is, the inference will vary based on the dependent "
   ]
  },
  {
   "cell_type": "code",
   "execution_count": null,
   "metadata": {},
   "outputs": [],
   "source": []
  }
 ],
 "metadata": {
  "kernelspec": {
   "display_name": "Python 3",
   "language": "python",
   "name": "python3"
  },
  "language_info": {
   "codemirror_mode": {
    "name": "ipython",
    "version": 3
   },
   "file_extension": ".py",
   "mimetype": "text/x-python",
   "name": "python",
   "nbconvert_exporter": "python",
   "pygments_lexer": "ipython3",
   "version": "3.5.2"
  }
 },
 "nbformat": 4,
 "nbformat_minor": 2
}
