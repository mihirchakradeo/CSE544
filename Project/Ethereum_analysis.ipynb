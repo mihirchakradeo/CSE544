{
 "cells": [
  {
   "cell_type": "code",
   "execution_count": 2,
   "metadata": {},
   "outputs": [],
   "source": [
    "import pandas as pd\n",
    "import numpy as np\n",
    "import matplotlib.pyplot as plt\n",
    "from datetime import datetime\n",
    "import seaborn as sns"
   ]
  },
  {
   "cell_type": "code",
   "execution_count": 3,
   "metadata": {},
   "outputs": [],
   "source": [
    "btc = pd.read_csv('prices/bitcoin_price.csv')"
   ]
  },
  {
   "cell_type": "code",
   "execution_count": 5,
   "metadata": {},
   "outputs": [],
   "source": [
    "btc['Date'] = pd.to_datetime(btc['Date'])"
   ]
  },
  {
   "cell_type": "code",
   "execution_count": 7,
   "metadata": {},
   "outputs": [
    {
     "data": {
      "text/plain": [
       "[<matplotlib.lines.Line2D at 0x7f47a9aaadd0>]"
      ]
     },
     "execution_count": 7,
     "metadata": {},
     "output_type": "execute_result"
    },
    {
     "data": {
      "image/png": "[encoded data removed]",
      "text/plain": [
       "<Figure size 432x288 with 1 Axes>"
      ]
     },
     "metadata": {},
     "output_type": "display_data"
    }
   ],
   "source": [
    "plt.plot(btc['Date'],btc['Close'])"
   ]
  },
  {
   "cell_type": "code",
   "execution_count": 7,
   "metadata": {},
   "outputs": [],
   "source": [
    "df = pd.read_csv('prices/ethereum_price.csv')\n",
    "df2 = pd.read_csv('prices/ethereum_dataset.csv')"
   ]
  },
  {
   "cell_type": "code",
   "execution_count": 3,
   "metadata": {
    "scrolled": true
   },
   "outputs": [
    {
     "data": {
      "text/html": [
       "<div>\n",
       "<style scoped>\n",
       "    .dataframe tbody tr th:only-of-type {\n",
       "        vertical-align: middle;\n",
       "    }\n",
       "\n",
       "    .dataframe tbody tr th {\n",
       "        vertical-align: top;\n",
       "    }\n",
       "\n",
       "    .dataframe thead th {\n",
       "        text-align: right;\n",
       "    }\n",
       "</style>\n",
       "<table border=\"1\" class=\"dataframe\">\n",
       "  <thead>\n",
       "    <tr style=\"text-align: right;\">\n",
       "      <th></th>\n",
       "      <th>Date</th>\n",
       "      <th>Open</th>\n",
       "      <th>High</th>\n",
       "      <th>Low</th>\n",
       "      <th>Close</th>\n",
       "      <th>Volume</th>\n",
       "      <th>Market Cap</th>\n",
       "    </tr>\n",
       "  </thead>\n",
       "  <tbody>\n",
       "    <tr>\n",
       "      <th>0</th>\n",
       "      <td>Feb 20, 2018</td>\n",
       "      <td>943.57</td>\n",
       "      <td>965.26</td>\n",
       "      <td>892.95</td>\n",
       "      <td>895.37</td>\n",
       "      <td>2,545,260,000</td>\n",
       "      <td>92,206,500,000</td>\n",
       "    </tr>\n",
       "    <tr>\n",
       "      <th>1</th>\n",
       "      <td>Feb 19, 2018</td>\n",
       "      <td>921.67</td>\n",
       "      <td>957.78</td>\n",
       "      <td>921.55</td>\n",
       "      <td>943.87</td>\n",
       "      <td>2,169,020,000</td>\n",
       "      <td>90,047,700,000</td>\n",
       "    </tr>\n",
       "    <tr>\n",
       "      <th>2</th>\n",
       "      <td>Feb 18, 2018</td>\n",
       "      <td>973.35</td>\n",
       "      <td>982.93</td>\n",
       "      <td>915.45</td>\n",
       "      <td>923.92</td>\n",
       "      <td>2,567,290,000</td>\n",
       "      <td>95,077,100,000</td>\n",
       "    </tr>\n",
       "    <tr>\n",
       "      <th>3</th>\n",
       "      <td>Feb 17, 2018</td>\n",
       "      <td>944.75</td>\n",
       "      <td>976.60</td>\n",
       "      <td>940.75</td>\n",
       "      <td>974.12</td>\n",
       "      <td>2,525,720,000</td>\n",
       "      <td>92,264,000,000</td>\n",
       "    </tr>\n",
       "    <tr>\n",
       "      <th>4</th>\n",
       "      <td>Feb 16, 2018</td>\n",
       "      <td>934.79</td>\n",
       "      <td>950.00</td>\n",
       "      <td>917.85</td>\n",
       "      <td>944.21</td>\n",
       "      <td>2,369,450,000</td>\n",
       "      <td>91,272,100,000</td>\n",
       "    </tr>\n",
       "  </tbody>\n",
       "</table>\n",
       "</div>"
      ],
      "text/plain": [
       "           Date    Open    High     Low   Close         Volume      Market Cap\n",
       "0  Feb 20, 2018  943.57  965.26  892.95  895.37  2,545,260,000  92,206,500,000\n",
       "1  Feb 19, 2018  921.67  957.78  921.55  943.87  2,169,020,000  90,047,700,000\n",
       "2  Feb 18, 2018  973.35  982.93  915.45  923.92  2,567,290,000  95,077,100,000\n",
       "3  Feb 17, 2018  944.75  976.60  940.75  974.12  2,525,720,000  92,264,000,000\n",
       "4  Feb 16, 2018  934.79  950.00  917.85  944.21  2,369,450,000  91,272,100,000"
      ]
     },
     "execution_count": 3,
     "metadata": {},
     "output_type": "execute_result"
    }
   ],
   "source": [
    "df.head()"
   ]
  },
  {
   "cell_type": "code",
   "execution_count": 8,
   "metadata": {},
   "outputs": [
    {
     "data": {
      "text/html": [
       "<div>\n",
       "<style scoped>\n",
       "    .dataframe tbody tr th:only-of-type {\n",
       "        vertical-align: middle;\n",
       "    }\n",
       "\n",
       "    .dataframe tbody tr th {\n",
       "        vertical-align: top;\n",
       "    }\n",
       "\n",
       "    .dataframe thead th {\n",
       "        text-align: right;\n",
       "    }\n",
       "</style>\n",
       "<table border=\"1\" class=\"dataframe\">\n",
       "  <thead>\n",
       "    <tr style=\"text-align: right;\">\n",
       "      <th></th>\n",
       "      <th>Date(UTC)</th>\n",
       "      <th>UnixTimeStamp</th>\n",
       "      <th>eth_etherprice</th>\n",
       "      <th>eth_tx</th>\n",
       "      <th>eth_address</th>\n",
       "      <th>eth_supply</th>\n",
       "      <th>eth_marketcap</th>\n",
       "      <th>eth_hashrate</th>\n",
       "      <th>eth_difficulty</th>\n",
       "      <th>eth_blocks</th>\n",
       "      <th>eth_uncles</th>\n",
       "      <th>eth_blocksize</th>\n",
       "      <th>eth_blocktime</th>\n",
       "      <th>eth_gasprice</th>\n",
       "      <th>eth_gaslimit</th>\n",
       "      <th>eth_gasused</th>\n",
       "      <th>eth_ethersupply</th>\n",
       "      <th>eth_ens_register</th>\n",
       "    </tr>\n",
       "  </thead>\n",
       "  <tbody>\n",
       "    <tr>\n",
       "      <th>0</th>\n",
       "      <td>7/30/2015</td>\n",
       "      <td>1438214400</td>\n",
       "      <td>0.0</td>\n",
       "      <td>8893</td>\n",
       "      <td>9205</td>\n",
       "      <td>7.204931e+07</td>\n",
       "      <td>0.0</td>\n",
       "      <td>11.5297</td>\n",
       "      <td>0.121</td>\n",
       "      <td>6912</td>\n",
       "      <td>1299</td>\n",
       "      <td>644</td>\n",
       "      <td>4.46</td>\n",
       "      <td>0</td>\n",
       "      <td>0</td>\n",
       "      <td>0</td>\n",
       "      <td>39316.09375</td>\n",
       "      <td>NaN</td>\n",
       "    </tr>\n",
       "    <tr>\n",
       "      <th>1</th>\n",
       "      <td>7/31/2015</td>\n",
       "      <td>1438300800</td>\n",
       "      <td>0.0</td>\n",
       "      <td>0</td>\n",
       "      <td>9361</td>\n",
       "      <td>7.208550e+07</td>\n",
       "      <td>0.0</td>\n",
       "      <td>51.4594</td>\n",
       "      <td>0.603</td>\n",
       "      <td>6863</td>\n",
       "      <td>511</td>\n",
       "      <td>582</td>\n",
       "      <td>12.58</td>\n",
       "      <td>0</td>\n",
       "      <td>0</td>\n",
       "      <td>0</td>\n",
       "      <td>36191.71875</td>\n",
       "      <td>NaN</td>\n",
       "    </tr>\n",
       "    <tr>\n",
       "      <th>2</th>\n",
       "      <td>8/1/2015</td>\n",
       "      <td>1438387200</td>\n",
       "      <td>0.0</td>\n",
       "      <td>0</td>\n",
       "      <td>9476</td>\n",
       "      <td>7.211320e+07</td>\n",
       "      <td>0.0</td>\n",
       "      <td>57.7845</td>\n",
       "      <td>0.887</td>\n",
       "      <td>5293</td>\n",
       "      <td>334</td>\n",
       "      <td>575</td>\n",
       "      <td>16.34</td>\n",
       "      <td>0</td>\n",
       "      <td>0</td>\n",
       "      <td>0</td>\n",
       "      <td>27705.93750</td>\n",
       "      <td>NaN</td>\n",
       "    </tr>\n",
       "    <tr>\n",
       "      <th>3</th>\n",
       "      <td>8/2/2015</td>\n",
       "      <td>1438473600</td>\n",
       "      <td>0.0</td>\n",
       "      <td>0</td>\n",
       "      <td>9563</td>\n",
       "      <td>7.214143e+07</td>\n",
       "      <td>0.0</td>\n",
       "      <td>67.9224</td>\n",
       "      <td>1.020</td>\n",
       "      <td>5358</td>\n",
       "      <td>394</td>\n",
       "      <td>581</td>\n",
       "      <td>16.12</td>\n",
       "      <td>0</td>\n",
       "      <td>0</td>\n",
       "      <td>0</td>\n",
       "      <td>28223.43750</td>\n",
       "      <td>NaN</td>\n",
       "    </tr>\n",
       "    <tr>\n",
       "      <th>4</th>\n",
       "      <td>8/3/2015</td>\n",
       "      <td>1438560000</td>\n",
       "      <td>0.0</td>\n",
       "      <td>0</td>\n",
       "      <td>9639</td>\n",
       "      <td>7.216940e+07</td>\n",
       "      <td>0.0</td>\n",
       "      <td>74.5737</td>\n",
       "      <td>1.126</td>\n",
       "      <td>5280</td>\n",
       "      <td>443</td>\n",
       "      <td>587</td>\n",
       "      <td>16.37</td>\n",
       "      <td>0</td>\n",
       "      <td>0</td>\n",
       "      <td>0</td>\n",
       "      <td>27976.71875</td>\n",
       "      <td>NaN</td>\n",
       "    </tr>\n",
       "  </tbody>\n",
       "</table>\n",
       "</div>"
      ],
      "text/plain": [
       "   Date(UTC)  UnixTimeStamp  eth_etherprice  eth_tx  eth_address  \\\n",
       "0  7/30/2015     1438214400             0.0    8893         9205   \n",
       "1  7/31/2015     1438300800             0.0       0         9361   \n",
       "2   8/1/2015     1438387200             0.0       0         9476   \n",
       "3   8/2/2015     1438473600             0.0       0         9563   \n",
       "4   8/3/2015     1438560000             0.0       0         9639   \n",
       "\n",
       "     eth_supply  eth_marketcap  eth_hashrate  eth_difficulty  eth_blocks  \\\n",
       "0  7.204931e+07            0.0       11.5297           0.121        6912   \n",
       "1  7.208550e+07            0.0       51.4594           0.603        6863   \n",
       "2  7.211320e+07            0.0       57.7845           0.887        5293   \n",
       "3  7.214143e+07            0.0       67.9224           1.020        5358   \n",
       "4  7.216940e+07            0.0       74.5737           1.126        5280   \n",
       "\n",
       "   eth_uncles  eth_blocksize  eth_blocktime  eth_gasprice  eth_gaslimit  \\\n",
       "0        1299            644           4.46             0             0   \n",
       "1         511            582          12.58             0             0   \n",
       "2         334            575          16.34             0             0   \n",
       "3         394            581          16.12             0             0   \n",
       "4         443            587          16.37             0             0   \n",
       "\n",
       "   eth_gasused  eth_ethersupply  eth_ens_register  \n",
       "0            0      39316.09375               NaN  \n",
       "1            0      36191.71875               NaN  \n",
       "2            0      27705.93750               NaN  \n",
       "3            0      28223.43750               NaN  \n",
       "4            0      27976.71875               NaN  "
      ]
     },
     "execution_count": 8,
     "metadata": {},
     "output_type": "execute_result"
    }
   ],
   "source": [
    "df2.head()"
   ]
  },
  {
   "cell_type": "code",
   "execution_count": 11,
   "metadata": {},
   "outputs": [],
   "source": [
    "closing_price = df['Close']\n",
    "high_low = df['High']-df['Low']\n",
    "date = df['Date']\n",
    "date = pd.to_datetime(date)\n",
    "date2 = df2['Date(UTC)']\n",
    "date2 = pd.to_datetime(date2)"
   ]
  },
  {
   "cell_type": "code",
   "execution_count": 5,
   "metadata": {},
   "outputs": [
    {
     "data": {
      "text/plain": [
       "[<matplotlib.lines.Line2D at 0x7f2f0fee1050>]"
      ]
     },
     "execution_count": 5,
     "metadata": {},
     "output_type": "execute_result"
    },
    {
     "data": {
      "image/png": "[encoded data removed]",
      "text/plain": [
       "<Figure size 576x576 with 1 Axes>"
      ]
     },
     "metadata": {},
     "output_type": "display_data"
    }
   ],
   "source": [
    "plt.figure(figsize=(8,8))\n",
    "plt.title(\"High-low difference per day\")\n",
    "plt.plot(date,high_low)"
   ]
  },
  {
   "cell_type": "code",
   "execution_count": 15,
   "metadata": {
    "scrolled": true
   },
   "outputs": [
    {
     "data": {
      "text/plain": [
       "[<matplotlib.lines.Line2D at 0x7f2f0bf4d810>]"
      ]
     },
     "execution_count": 15,
     "metadata": {},
     "output_type": "execute_result"
    },
    {
     "data": {
      "image/png": "[encoded data removed]",
      "text/plain": [
       "<Figure size 576x576 with 1 Axes>"
      ]
     },
     "metadata": {},
     "output_type": "display_data"
    }
   ],
   "source": [
    "plt.figure(figsize=(8,8))\n",
    "plt.title(\"Closing price per day\")\n",
    "plt.plot(date,closing_price)"
   ]
  },
  {
   "cell_type": "code",
   "execution_count": 17,
   "metadata": {},
   "outputs": [
    {
     "data": {
      "text/plain": [
       "[<matplotlib.lines.Line2D at 0x7f2f0bbdcad0>]"
      ]
     },
     "execution_count": 17,
     "metadata": {},
     "output_type": "execute_result"
    },
    {
     "data": {
      "image/png": "[encoded data removed]",
      "text/plain": [
       "<Figure size 576x576 with 1 Axes>"
      ]
     },
     "metadata": {},
     "output_type": "display_data"
    }
   ],
   "source": [
    "hash_rate = df2['eth_hashrate']\n",
    "plt.figure(figsize=(8,8))\n",
    "plt.title(\"Hashrate as a function of time\")\n",
    "plt.plot(date2, hash_rate)"
   ]
  },
  {
   "cell_type": "markdown",
   "metadata": {},
   "source": [
    "### 2016 onwards the network started getting users and increased support of mining power from 2015 onwards. So, filtering out data before 2015"
   ]
  },
  {
   "cell_type": "code",
   "execution_count": 40,
   "metadata": {},
   "outputs": [],
   "source": [
    "eth_price_data = df.loc[date > '2016']"
   ]
  },
  {
   "cell_type": "code",
   "execution_count": 47,
   "metadata": {
    "scrolled": true
   },
   "outputs": [
    {
     "name": "stderr",
     "output_type": "stream",
     "text": [
      "/home/mihir/anaconda2/envs/myenv/lib/python2.7/site-packages/ipykernel_launcher.py:3: SettingWithCopyWarning: \n",
      "A value is trying to be set on a copy of a slice from a DataFrame.\n",
      "Try using .loc[row_indexer,col_indexer] = value instead\n",
      "\n",
      "See the caveats in the documentation: http://pandas.pydata.org/pandas-docs/stable/indexing.html#indexing-view-versus-copy\n",
      "  This is separate from the ipykernel package so we can avoid doing imports until\n"
     ]
    }
   ],
   "source": [
    "# Replacing Date values with proper formatting\n",
    "eth_price_data.tail()\n",
    "eth_price_data['Date'] = date"
   ]
  },
  {
   "cell_type": "code",
   "execution_count": 54,
   "metadata": {
    "scrolled": true
   },
   "outputs": [
    {
     "name": "stderr",
     "output_type": "stream",
     "text": [
      "/home/mihir/anaconda2/envs/myenv/lib/python2.7/site-packages/ipykernel_launcher.py:3: SettingWithCopyWarning: \n",
      "A value is trying to be set on a copy of a slice from a DataFrame.\n",
      "Try using .loc[row_indexer,col_indexer] = value instead\n",
      "\n",
      "See the caveats in the documentation: http://pandas.pydata.org/pandas-docs/stable/indexing.html#indexing-view-versus-copy\n",
      "  This is separate from the ipykernel package so we can avoid doing imports until\n"
     ]
    }
   ],
   "source": [
    "# Replacing Date values with proper formatting\n",
    "eth_data = df2.loc[date2 > '2016']\n",
    "eth_data['Date(UTC)'] = date2"
   ]
  },
  {
   "cell_type": "code",
   "execution_count": 99,
   "metadata": {
    "scrolled": false
   },
   "outputs": [
    {
     "name": "stderr",
     "output_type": "stream",
     "text": [
      "/home/mihir/anaconda2/envs/myenv/lib/python2.7/site-packages/ipykernel_launcher.py:2: SettingWithCopyWarning: \n",
      "A value is trying to be set on a copy of a slice from a DataFrame.\n",
      "Try using .loc[row_indexer,col_indexer] = value instead\n",
      "\n",
      "See the caveats in the documentation: http://pandas.pydata.org/pandas-docs/stable/indexing.html#indexing-view-versus-copy\n",
      "  \n",
      "/home/mihir/anaconda2/envs/myenv/lib/python2.7/site-packages/ipykernel_launcher.py:3: SettingWithCopyWarning: \n",
      "A value is trying to be set on a copy of a slice from a DataFrame.\n",
      "Try using .loc[row_indexer,col_indexer] = value instead\n",
      "\n",
      "See the caveats in the documentation: http://pandas.pydata.org/pandas-docs/stable/indexing.html#indexing-view-versus-copy\n",
      "  This is separate from the ipykernel package so we can avoid doing imports until\n"
     ]
    }
   ],
   "source": [
    "eth_data.head()\n",
    "eth_data['Year'] = eth_data['Date(UTC)'].apply(lambda x: x.year)\n",
    "eth_data['Month'] = eth_data['Date(UTC)'].apply(lambda x: x.month)"
   ]
  },
  {
   "cell_type": "code",
   "execution_count": 100,
   "metadata": {
    "scrolled": true
   },
   "outputs": [
    {
     "data": {
      "text/html": [
       "<div>\n",
       "<style scoped>\n",
       "    .dataframe tbody tr th:only-of-type {\n",
       "        vertical-align: middle;\n",
       "    }\n",
       "\n",
       "    .dataframe tbody tr th {\n",
       "        vertical-align: top;\n",
       "    }\n",
       "\n",
       "    .dataframe thead th {\n",
       "        text-align: right;\n",
       "    }\n",
       "</style>\n",
       "<table border=\"1\" class=\"dataframe\">\n",
       "  <thead>\n",
       "    <tr style=\"text-align: right;\">\n",
       "      <th></th>\n",
       "      <th>Date(UTC)</th>\n",
       "      <th>UnixTimeStamp</th>\n",
       "      <th>eth_etherprice</th>\n",
       "      <th>eth_tx</th>\n",
       "      <th>eth_address</th>\n",
       "      <th>eth_supply</th>\n",
       "      <th>eth_marketcap</th>\n",
       "      <th>eth_hashrate</th>\n",
       "      <th>eth_difficulty</th>\n",
       "      <th>eth_blocks</th>\n",
       "      <th>eth_uncles</th>\n",
       "      <th>eth_blocksize</th>\n",
       "      <th>eth_blocktime</th>\n",
       "      <th>eth_gasprice</th>\n",
       "      <th>eth_gaslimit</th>\n",
       "      <th>eth_gasused</th>\n",
       "      <th>eth_ethersupply</th>\n",
       "      <th>eth_ens_register</th>\n",
       "      <th>Year</th>\n",
       "      <th>Month</th>\n",
       "    </tr>\n",
       "  </thead>\n",
       "  <tbody>\n",
       "    <tr>\n",
       "      <th>156</th>\n",
       "      <td>2016-01-02</td>\n",
       "      <td>1451692800</td>\n",
       "      <td>0.95</td>\n",
       "      <td>9164</td>\n",
       "      <td>40850</td>\n",
       "      <td>7.619367e+07</td>\n",
       "      <td>72.383985</td>\n",
       "      <td>528.0765</td>\n",
       "      <td>8.147</td>\n",
       "      <td>5095</td>\n",
       "      <td>505</td>\n",
       "      <td>954</td>\n",
       "      <td>16.74</td>\n",
       "      <td>53323453178</td>\n",
       "      <td>3141599</td>\n",
       "      <td>368139389</td>\n",
       "      <td>27383.90625</td>\n",
       "      <td>NaN</td>\n",
       "      <td>2016</td>\n",
       "      <td>1</td>\n",
       "    </tr>\n",
       "    <tr>\n",
       "      <th>157</th>\n",
       "      <td>2016-01-03</td>\n",
       "      <td>1451779200</td>\n",
       "      <td>0.96</td>\n",
       "      <td>9258</td>\n",
       "      <td>41000</td>\n",
       "      <td>7.622134e+07</td>\n",
       "      <td>73.172490</td>\n",
       "      <td>544.8281</td>\n",
       "      <td>8.312</td>\n",
       "      <td>5134</td>\n",
       "      <td>529</td>\n",
       "      <td>955</td>\n",
       "      <td>16.51</td>\n",
       "      <td>53342341402</td>\n",
       "      <td>3141597</td>\n",
       "      <td>369359246</td>\n",
       "      <td>27675.78125</td>\n",
       "      <td>NaN</td>\n",
       "      <td>2016</td>\n",
       "      <td>1</td>\n",
       "    </tr>\n",
       "    <tr>\n",
       "      <th>158</th>\n",
       "      <td>2016-01-04</td>\n",
       "      <td>1451865600</td>\n",
       "      <td>0.95</td>\n",
       "      <td>9474</td>\n",
       "      <td>41198</td>\n",
       "      <td>7.624876e+07</td>\n",
       "      <td>72.436326</td>\n",
       "      <td>541.3346</td>\n",
       "      <td>8.334</td>\n",
       "      <td>5096</td>\n",
       "      <td>516</td>\n",
       "      <td>981</td>\n",
       "      <td>16.61</td>\n",
       "      <td>54038066808</td>\n",
       "      <td>3141599</td>\n",
       "      <td>402593450</td>\n",
       "      <td>27420.62500</td>\n",
       "      <td>NaN</td>\n",
       "      <td>2016</td>\n",
       "      <td>1</td>\n",
       "    </tr>\n",
       "    <tr>\n",
       "      <th>159</th>\n",
       "      <td>2016-01-05</td>\n",
       "      <td>1451952000</td>\n",
       "      <td>0.94</td>\n",
       "      <td>16430</td>\n",
       "      <td>41381</td>\n",
       "      <td>7.627660e+07</td>\n",
       "      <td>71.700008</td>\n",
       "      <td>548.8214</td>\n",
       "      <td>8.306</td>\n",
       "      <td>5126</td>\n",
       "      <td>583</td>\n",
       "      <td>1396</td>\n",
       "      <td>16.47</td>\n",
       "      <td>57078526509</td>\n",
       "      <td>3164299</td>\n",
       "      <td>1081639803</td>\n",
       "      <td>27839.21875</td>\n",
       "      <td>NaN</td>\n",
       "      <td>2016</td>\n",
       "      <td>1</td>\n",
       "    </tr>\n",
       "    <tr>\n",
       "      <th>160</th>\n",
       "      <td>2016-01-06</td>\n",
       "      <td>1452038400</td>\n",
       "      <td>0.95</td>\n",
       "      <td>17074</td>\n",
       "      <td>41647</td>\n",
       "      <td>7.630423e+07</td>\n",
       "      <td>72.489018</td>\n",
       "      <td>552.2518</td>\n",
       "      <td>8.423</td>\n",
       "      <td>5090</td>\n",
       "      <td>575</td>\n",
       "      <td>1553</td>\n",
       "      <td>16.63</td>\n",
       "      <td>53724486418</td>\n",
       "      <td>3153939</td>\n",
       "      <td>1248021662</td>\n",
       "      <td>27625.46875</td>\n",
       "      <td>NaN</td>\n",
       "      <td>2016</td>\n",
       "      <td>1</td>\n",
       "    </tr>\n",
       "  </tbody>\n",
       "</table>\n",
       "</div>"
      ],
      "text/plain": [
       "     Date(UTC)  UnixTimeStamp  eth_etherprice  eth_tx  eth_address  \\\n",
       "156 2016-01-02     1451692800            0.95    9164        40850   \n",
       "157 2016-01-03     1451779200            0.96    9258        41000   \n",
       "158 2016-01-04     1451865600            0.95    9474        41198   \n",
       "159 2016-01-05     1451952000            0.94   16430        41381   \n",
       "160 2016-01-06     1452038400            0.95   17074        41647   \n",
       "\n",
       "       eth_supply  eth_marketcap  eth_hashrate  eth_difficulty  eth_blocks  \\\n",
       "156  7.619367e+07      72.383985      528.0765           8.147        5095   \n",
       "157  7.622134e+07      73.172490      544.8281           8.312        5134   \n",
       "158  7.624876e+07      72.436326      541.3346           8.334        5096   \n",
       "159  7.627660e+07      71.700008      548.8214           8.306        5126   \n",
       "160  7.630423e+07      72.489018      552.2518           8.423        5090   \n",
       "\n",
       "     eth_uncles  eth_blocksize  eth_blocktime  eth_gasprice  eth_gaslimit  \\\n",
       "156         505            954          16.74   53323453178       3141599   \n",
       "157         529            955          16.51   53342341402       3141597   \n",
       "158         516            981          16.61   54038066808       3141599   \n",
       "159         583           1396          16.47   57078526509       3164299   \n",
       "160         575           1553          16.63   53724486418       3153939   \n",
       "\n",
       "     eth_gasused  eth_ethersupply  eth_ens_register  Year  Month  \n",
       "156    368139389      27383.90625               NaN  2016      1  \n",
       "157    369359246      27675.78125               NaN  2016      1  \n",
       "158    402593450      27420.62500               NaN  2016      1  \n",
       "159   1081639803      27839.21875               NaN  2016      1  \n",
       "160   1248021662      27625.46875               NaN  2016      1  "
      ]
     },
     "execution_count": 100,
     "metadata": {},
     "output_type": "execute_result"
    }
   ],
   "source": [
    "eth_data.col"
   ]
  },
  {
   "cell_type": "code",
   "execution_count": 109,
   "metadata": {},
   "outputs": [
    {
     "data": {
      "text/plain": [
       "<seaborn.axisgrid.PairGrid at 0x7f2eed4ab750>"
      ]
     },
     "execution_count": 109,
     "metadata": {},
     "output_type": "execute_result"
    },
    {
     "data": {
      "image/png": "[encoded data removed]",
      "text/plain": [
       "<Figure size 360x360 with 6 Axes>"
      ]
     },
     "metadata": {},
     "output_type": "display_data"
    }
   ],
   "source": [
    "sns.pairplot(eth_data[eth_data.columns[[7,8]]], palette='afmhot', diag_kind='kde')"
   ]
  },
  {
   "cell_type": "code",
   "execution_count": null,
   "metadata": {},
   "outputs": [],
   "source": []
  }
 ],
 "metadata": {
  "kernelspec": {
   "display_name": "Python 3",
   "language": "python",
   "name": "python3"
  },
  "language_info": {
   "codemirror_mode": {
    "name": "ipython",
    "version": 2
   },
   "file_extension": ".py",
   "mimetype": "text/x-python",
   "name": "python",
   "nbconvert_exporter": "python",
   "pygments_lexer": "ipython2",
   "version": "2.7.14"
  }
 },
 "nbformat": 4,
 "nbformat_minor": 2
}
